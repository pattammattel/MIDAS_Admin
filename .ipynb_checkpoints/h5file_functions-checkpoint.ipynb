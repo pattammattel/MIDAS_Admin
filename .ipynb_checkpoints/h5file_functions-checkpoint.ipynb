{
 "cells": [
  {
   "cell_type": "code",
   "execution_count": 2,
   "metadata": {},
   "outputs": [],
   "source": [
    "import numpy as np\n",
    "import matplotlib.pyplot as plt\n",
    "import h5py\n",
    "import tifffile as tf"
   ]
  },
  {
   "cell_type": "markdown",
   "metadata": {},
   "source": [
    "# HXN"
   ]
  },
  {
   "cell_type": "code",
   "execution_count": 22,
   "metadata": {},
   "outputs": [],
   "source": [
    "hxn = h5py.File(r'C:\\Users\\pattammattel\\Desktop\\scan2D_99996.h5', 'r')"
   ]
  },
  {
   "cell_type": "code",
   "execution_count": 23,
   "metadata": {},
   "outputs": [
    {
     "name": "stdout",
     "output_type": "stream",
     "text": [
      "xrfmap\n",
      "xrfmap/detsum\n",
      "xrfmap/detsum/counts\n",
      "xrfmap/positions\n",
      "xrfmap/positions/name\n",
      "xrfmap/positions/pos\n",
      "xrfmap/scalers\n",
      "xrfmap/scalers/name\n",
      "xrfmap/scalers/val\n",
      "xrfmap/scan_metadata\n"
     ]
    }
   ],
   "source": [
    "hxn.visit(print)"
   ]
  },
  {
   "cell_type": "code",
   "execution_count": 27,
   "metadata": {},
   "outputs": [
    {
     "data": {
      "text/plain": [
       "ValuesViewHDF5(<HDF5 group \"/xrfmap/scan_metadata\" (0 members)>)"
      ]
     },
     "execution_count": 27,
     "metadata": {},
     "output_type": "execute_result"
    }
   ],
   "source": [
    "hxn['xrfmap/scan_metadata'].values()"
   ]
  },
  {
   "cell_type": "markdown",
   "metadata": {},
   "source": [
    "# TES"
   ]
  },
  {
   "cell_type": "code",
   "execution_count": 9,
   "metadata": {},
   "outputs": [],
   "source": [
    "tes = h5py.File(r'C:\\Users\\pattammattel\\Desktop\\Spectromicroscopy\\TES_Data\\scan2D_7_xs_sum(1ch).h5', 'r')"
   ]
  },
  {
   "cell_type": "code",
   "execution_count": null,
   "metadata": {},
   "outputs": [],
   "source": [
    "hxn['xrfmap/scan_metadata'].keys()"
   ]
  },
  {
   "cell_type": "code",
   "execution_count": 20,
   "metadata": {},
   "outputs": [
    {
     "data": {
      "text/plain": [
       "(580, 300, 4)"
      ]
     },
     "execution_count": 20,
     "metadata": {},
     "output_type": "execute_result"
    }
   ],
   "source": [
    "#tes.visit(print)\n",
    "tes_scalar = np.shape(tes['xrfmap/scalers/val'])\n",
    "tes_scalar"
   ]
  },
  {
   "cell_type": "markdown",
   "metadata": {},
   "source": [
    "# SRX"
   ]
  },
  {
   "cell_type": "code",
   "execution_count": 10,
   "metadata": {},
   "outputs": [],
   "source": [
    "srx = h5py.File(r'C:\\Users\\pattammattel\\Desktop\\Spectromicroscopy\\SRX_Data\\scan2D_69477_xs_sum3ch.h5', 'r')"
   ]
  },
  {
   "cell_type": "code",
   "execution_count": 13,
   "metadata": {},
   "outputs": [
    {
     "name": "stdout",
     "output_type": "stream",
     "text": [
      "xrfmap\n",
      "xrfmap/detsum\n",
      "xrfmap/detsum/counts\n",
      "xrfmap/detsum/xrf_fit\n",
      "xrfmap/detsum/xrf_fit_name\n",
      "xrfmap/positions\n",
      "xrfmap/positions/name\n",
      "xrfmap/positions/pos\n",
      "xrfmap/scalers\n",
      "xrfmap/scalers/name\n",
      "xrfmap/scalers/val\n",
      "xrfmap/scan_metadata\n"
     ]
    }
   ],
   "source": [
    "srx.visit(print)"
   ]
  },
  {
   "cell_type": "code",
   "execution_count": 15,
   "metadata": {},
   "outputs": [
    {
     "data": {
      "text/plain": [
       "[b'i0', b'time', b'i0_time', b'time_diff']"
      ]
     },
     "execution_count": 15,
     "metadata": {},
     "output_type": "execute_result"
    }
   ],
   "source": [
    "srx_scalar = list(srx['xrfmap/scalers/name'])\n",
    "srx_scalar"
   ]
  },
  {
   "cell_type": "code",
   "execution_count": null,
   "metadata": {},
   "outputs": [],
   "source": []
  },
  {
   "cell_type": "markdown",
   "metadata": {},
   "source": [
    "# XFM"
   ]
  },
  {
   "cell_type": "code",
   "execution_count": 8,
   "metadata": {},
   "outputs": [],
   "source": [
    "xfm = h5py.File(r'C:\\Users\\pattammattel\\Desktop\\Spectromicroscopy\\XFM_Data\\2470_2eV_Juan_d_fuca_right_multi_10um.h5', 'r')"
   ]
  },
  {
   "cell_type": "code",
   "execution_count": 21,
   "metadata": {},
   "outputs": [],
   "source": [
    "#xfm.visit(print)"
   ]
  }
 ],
 "metadata": {
  "kernelspec": {
   "display_name": "Python 3",
   "language": "python",
   "name": "python3"
  },
  "language_info": {
   "codemirror_mode": {
    "name": "ipython",
    "version": 3
   },
   "file_extension": ".py",
   "mimetype": "text/x-python",
   "name": "python",
   "nbconvert_exporter": "python",
   "pygments_lexer": "ipython3",
   "version": "3.7.3"
  }
 },
 "nbformat": 4,
 "nbformat_minor": 2
}
