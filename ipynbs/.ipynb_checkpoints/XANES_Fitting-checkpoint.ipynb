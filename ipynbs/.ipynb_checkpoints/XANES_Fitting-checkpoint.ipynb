{
 "cells": [
  {
   "cell_type": "code",
   "execution_count": 56,
   "metadata": {},
   "outputs": [],
   "source": [
    "from itertools import combinations\n",
    "import numpy as np\n",
    "import scipy.optimize as opt\n",
    "import tifffile as tf\n",
    "import matplotlib.pyplot as plt"
   ]
  },
  {
   "cell_type": "code",
   "execution_count": 4,
   "metadata": {},
   "outputs": [],
   "source": [
    "img_stack = tf.imread(r'C:\\Users\\pattammattel\\Desktop\\MIDAS_Admin\\sample_data\\Site4um.tiff')\n",
    "e_list = np.loadtxt(r'C:\\Users\\pattammattel\\Desktop\\MIDAS_Admin\\sample_data\\Site4um.txt')\n",
    "refs = np.loadtxt(r'C:\\Users\\pattammattel\\Desktop\\MIDAS_Admin\\sample_data\\fe_refs.nor')"
   ]
  },
  {
   "cell_type": "code",
   "execution_count": 7,
   "metadata": {},
   "outputs": [],
   "source": [
    "def interploate_E(refs, e):\n",
    "    n = np.shape(refs)[1]\n",
    "    refs = np.array(refs)\n",
    "    ref_e = refs[:, 0]\n",
    "    ref = refs[:, 1:n]\n",
    "    all_ref = []\n",
    "    for i in range(n - 1):\n",
    "        ref_i = np.interp(e, ref_e, ref[:, i])\n",
    "        all_ref.append(ref_i)\n",
    "    return np.array(all_ref)\n",
    "\n",
    "new_ref = interploate_E(refs, e_list)"
   ]
  },
  {
   "cell_type": "code",
   "execution_count": 8,
   "metadata": {},
   "outputs": [
    {
     "data": {
      "text/plain": [
       "((57, 91, 95), (57,), (3, 57))"
      ]
     },
     "execution_count": 8,
     "metadata": {},
     "output_type": "execute_result"
    }
   ],
   "source": [
    "np.shape(img_stack),np.shape(e_list),np.shape(new_ref)"
   ]
  },
  {
   "cell_type": "code",
   "execution_count": 9,
   "metadata": {},
   "outputs": [],
   "source": [
    "im_array = np.reshape(img_stack, (57,91*95))"
   ]
  },
  {
   "cell_type": "code",
   "execution_count": 13,
   "metadata": {},
   "outputs": [
    {
     "data": {
      "text/plain": [
       "((57, 3), (57,))"
      ]
     },
     "execution_count": 13,
     "metadata": {},
     "output_type": "execute_result"
    }
   ],
   "source": [
    "np.shape(new_ref.T),np.shape(im_array[:,5000])"
   ]
  },
  {
   "cell_type": "code",
   "execution_count": 16,
   "metadata": {},
   "outputs": [],
   "source": [
    "coeffs, r = opt.nnls(new_ref.T, im_array[:,5000])"
   ]
  },
  {
   "cell_type": "code",
   "execution_count": 17,
   "metadata": {},
   "outputs": [],
   "source": [
    "coeffs_arr = []\n",
    "for i in range(np.shape(im_array)[-1]):\n",
    "    coeffs, r = opt.nnls(new_ref.T, im_array[:,i])\n",
    "    coeffs_arr.append(coeffs)"
   ]
  },
  {
   "cell_type": "code",
   "execution_count": 53,
   "metadata": {},
   "outputs": [],
   "source": [
    "def xanes_fitting(im_stack, e_list, refs, method='NNLS'):\n",
    "    \"\"\"Linear combination fit of image data with reference standards\"\"\"\n",
    "    en,im1,im2 = np.shape(im_stack)\n",
    "\n",
    "    int_refs = (interploate_E(refs, e_list))\n",
    "    im_array = im_stack.reshape(en, im1*im2)\n",
    "\n",
    "    if method == 'NNLS':\n",
    "        \n",
    "        coeffs_arr = []\n",
    "        r_factor_arr = []\n",
    "        \n",
    "        for i in range(im1*im2):\n",
    "            coeffs, r = opt.nnls(int_refs.T, im_array[:,i])\n",
    "            coeffs_arr.append(coeffs)\n",
    "            r_factor_arr.append(r)\n",
    "            \n",
    "        abundance_map = np.reshape(coeffs_arr,(im1,im2,-1))\n",
    "        r_factor = np.reshape(r_factor_arr,(im1,im2))\n",
    "\n",
    "    return abundance_map,r_factor"
   ]
  },
  {
   "cell_type": "code",
   "execution_count": 59,
   "metadata": {},
   "outputs": [],
   "source": [
    "mp,rf = xanes_fitting(img_stack, e_list, refs, method='NNLS')"
   ]
  },
  {
   "cell_type": "code",
   "execution_count": 60,
   "metadata": {},
   "outputs": [
    {
     "data": {
      "text/plain": [
       "(91, 95, 3)"
      ]
     },
     "execution_count": 60,
     "metadata": {},
     "output_type": "execute_result"
    }
   ],
   "source": [
    "np.shape(mp)"
   ]
  },
  {
   "cell_type": "code",
   "execution_count": 62,
   "metadata": {},
   "outputs": [
    {
     "data": {
      "text/plain": [
       "<matplotlib.colorbar.Colorbar at 0x222b7b97cf8>"
      ]
     },
     "execution_count": 62,
     "metadata": {},
     "output_type": "execute_result"
    },
    {
     "data": {
      "image/png": "[encoded data removed]",
      "text/plain": [
       "<Figure size 432x288 with 2 Axes>"
      ]
     },
     "metadata": {
      "needs_background": "light"
     },
     "output_type": "display_data"
    }
   ],
   "source": [
    "plt.imshow(mp[:,:,0])\n",
    "plt.colorbar()"
   ]
  },
  {
   "cell_type": "code",
   "execution_count": 67,
   "metadata": {},
   "outputs": [],
   "source": [
    "def normalize(image_array, norm_point=-1):\n",
    "    a, b, c = np.shape(image_array)\n",
    "    spec2D_Matrix = np.reshape(image_array, (a, (b * c)))\n",
    "    norm_stack = np.zeros(np.shape(spec2D_Matrix))\n",
    "    tot_spec = np.shape(spec2D_Matrix)[1]\n",
    "\n",
    "    for i in range(tot_spec):\n",
    "        norm_spec = spec2D_Matrix[:, i] / (spec2D_Matrix[:, i][norm_point])\n",
    "        norm_stack[:, i] = norm_spec\n",
    "\n",
    "    norm_stack = np.reshape(norm_stack, (a, b, c))\n",
    "    return norm_stack"
   ]
  },
  {
   "cell_type": "code",
   "execution_count": 68,
   "metadata": {},
   "outputs": [],
   "source": [
    "stk = normalize(img_stack, norm_point=-1)"
   ]
  },
  {
   "cell_type": "code",
   "execution_count": 71,
   "metadata": {},
   "outputs": [
    {
     "data": {
      "text/plain": [
       "(57, 91, 95)"
      ]
     },
     "execution_count": 71,
     "metadata": {},
     "output_type": "execute_result"
    }
   ],
   "source": [
    "img_stack/img_stack[-1].max()"
   ]
  },
  {
   "cell_type": "code",
   "execution_count": null,
   "metadata": {},
   "outputs": [],
   "source": []
  }
 ],
 "metadata": {
  "kernelspec": {
   "display_name": "Python 3",
   "language": "python",
   "name": "python3"
  },
  "language_info": {
   "codemirror_mode": {
    "name": "ipython",
    "version": 3
   },
   "file_extension": ".py",
   "mimetype": "text/x-python",
   "name": "python",
   "nbconvert_exporter": "python",
   "pygments_lexer": "ipython3",
   "version": "3.7.3"
  }
 },
 "nbformat": 4,
 "nbformat_minor": 2
}
