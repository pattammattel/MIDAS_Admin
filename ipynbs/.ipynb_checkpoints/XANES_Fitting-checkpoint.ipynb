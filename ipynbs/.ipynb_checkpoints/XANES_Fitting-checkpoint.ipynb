{
 "cells": [
  {
   "cell_type": "code",
   "execution_count": 1,
   "metadata": {},
   "outputs": [],
   "source": [
    "from itertools import combinations\n",
    "import numpy as np\n",
    "import scipy.optimize as opt\n",
    "import tifffile as tf\n",
    "import matplotlib.pyplot as plt"
   ]
  },
  {
   "cell_type": "code",
   "execution_count": 3,
   "metadata": {},
   "outputs": [],
   "source": [
    "img_stack = tf.imread(r'C:\\Users\\pattammattel\\Desktop\\MIDAS_Admin\\sample_data\\Site4um.tiff')\n",
    "e_list = np.loadtxt(r'C:\\Users\\pattammattel\\Desktop\\MIDAS_Admin\\sample_data\\Site4um.txt')\n",
    "refs = np.loadtxt(r'C:\\Users\\pattammattel\\Desktop\\MIDAS_Admin\\sample_data\\test_ref_athena.nor')"
   ]
  },
  {
   "cell_type": "code",
   "execution_count": 6,
   "metadata": {},
   "outputs": [],
   "source": [
    "sample_spec = img_stack.mean(1).mean(1)\n",
    "int_refs = interploate_E(refs, e_list)\n",
    "coeffs, r = opt.nnls(int_refs.T, sample_spec)\n"
   ]
  },
  {
   "cell_type": "code",
   "execution_count": 10,
   "metadata": {},
   "outputs": [
    {
     "data": {
      "text/plain": [
       "[<matplotlib.lines.Line2D at 0x10abdbe4f60>]"
      ]
     },
     "execution_count": 10,
     "metadata": {},
     "output_type": "execute_result"
    },
    {
     "data": {
      "image/png": "[encoded data removed]",
      "text/plain": [
       "<Figure size 432x288 with 1 Axes>"
      ]
     },
     "metadata": {
      "needs_background": "light"
     },
     "output_type": "display_data"
    }
   ],
   "source": [
    "plt.plot(e_list,  (np.dot(coeffs,int_refs)))\n",
    "plt.plot(e_list, sample_spec)\n"
   ]
  },
  {
   "cell_type": "code",
   "execution_count": 4,
   "metadata": {},
   "outputs": [],
   "source": [
    "def interploate_E(refs, e):\n",
    "    n = np.shape(refs)[1]\n",
    "    refs = np.array(refs)\n",
    "    ref_e = refs[:, 0]\n",
    "    ref = refs[:, 1:n]\n",
    "    all_ref = []\n",
    "    for i in range(n - 1):\n",
    "        ref_i = np.interp(e, ref_e, ref[:, i])\n",
    "        all_ref.append(ref_i)\n",
    "    return np.array(all_ref)\n",
    "\n",
    "new_ref = interploate_E(refs, e_list)"
   ]
  },
  {
   "cell_type": "code",
   "execution_count": 53,
   "metadata": {},
   "outputs": [],
   "source": [
    "def xanes_fitting(im_stack, e_list, refs, method='NNLS'):\n",
    "    \"\"\"Linear combination fit of image data with reference standards\"\"\"\n",
    "    en,im1,im2 = np.shape(im_stack)\n",
    "\n",
    "    int_refs = (interploate_E(refs, e_list))\n",
    "    im_array = im_stack.reshape(en, im1*im2)\n",
    "\n",
    "    if method == 'NNLS':\n",
    "        \n",
    "        coeffs_arr = []\n",
    "        r_factor_arr = []\n",
    "        \n",
    "        for i in range(im1*im2):\n",
    "            coeffs, r = opt.nnls(int_refs.T, im_array[:,i])\n",
    "            coeffs_arr.append(coeffs)\n",
    "            r_factor_arr.append(r)\n",
    "            \n",
    "        abundance_map = np.reshape(coeffs_arr,(im1,im2,-1))\n",
    "        r_factor = np.reshape(r_factor_arr,(im1,im2))\n",
    "\n",
    "    return abundance_map,r_factor"
   ]
  },
  {
   "cell_type": "code",
   "execution_count": 79,
   "metadata": {},
   "outputs": [],
   "source": [
    "mp,rf = xanes_fitting(img_stack_resized, e_list, refs, method='NNLS')"
   ]
  }
 ],
 "metadata": {
  "kernelspec": {
   "display_name": "Python 3",
   "language": "python",
   "name": "python3"
  },
  "language_info": {
   "codemirror_mode": {
    "name": "ipython",
    "version": 3
   },
   "file_extension": ".py",
   "mimetype": "text/x-python",
   "name": "python",
   "nbconvert_exporter": "python",
   "pygments_lexer": "ipython3",
   "version": "3.7.3"
  }
 },
 "nbformat": 4,
 "nbformat_minor": 2
}
