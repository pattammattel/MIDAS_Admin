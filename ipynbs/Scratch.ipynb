{
 "cells": [
  {
   "cell_type": "code",
   "execution_count": 2,
   "metadata": {},
   "outputs": [],
   "source": [
    "import matplotlib.pyplot as plt\n",
    "import numpy as np\n",
    "import pandas as pd\n",
    "import tifffile as tf\n",
    "import time\n",
    "%matplotlib qt"
   ]
  },
  {
   "cell_type": "code",
   "execution_count": 3,
   "metadata": {},
   "outputs": [
    {
     "data": {
      "text/plain": [
       "7"
      ]
     },
     "execution_count": 3,
     "metadata": {},
     "output_type": "execute_result"
    }
   ],
   "source": [
    "test = lambda x,y :x+y\n",
    "test(2,5)"
   ]
  },
  {
   "cell_type": "code",
   "execution_count": 6,
   "metadata": {},
   "outputs": [
    {
     "data": {
      "text/plain": [
       "[<matplotlib.lines.Line2D at 0x19e1b368f60>]"
      ]
     },
     "execution_count": 6,
     "metadata": {},
     "output_type": "execute_result"
    }
   ],
   "source": [
    "img = tf.imread(\"Site4um.tiff\")\n",
    "plt.plot(np.mean(img, axis = (1,2)))\n",
    "% time (np.mean(np.mean(img, 1), 1))"
   ]
  },
  {
   "cell_type": "code",
   "execution_count": 9,
   "metadata": {},
   "outputs": [
    {
     "name": "stdout",
     "output_type": "stream",
     "text": [
      "Wall time: 998 µs\n"
     ]
    },
    {
     "data": {
      "text/plain": [
       "array([0.00477391, 0.00542724, 0.00688025, 0.0202926 , 0.01054166,\n",
       "       0.00771563, 0.00783147, 0.01526484, 0.01190137, 0.01120089,\n",
       "       0.01402828, 0.02365644, 0.02966065, 0.02974189, 0.03174809,\n",
       "       0.03499492, 0.04145871, 0.052057  , 0.07654981, 0.1205722 ,\n",
       "       0.19034252, 0.26984605, 0.36429673, 0.44518483, 0.5134946 ,\n",
       "       0.56122667, 0.59451056, 0.59657323, 0.55306095, 0.491212  ,\n",
       "       0.46307695, 0.4508953 , 0.42275664, 0.39334798, 0.38607094,\n",
       "       0.37800118, 0.37706068, 0.37495038, 0.37330264, 0.37025386,\n",
       "       0.36392963, 0.3555663 , 0.34427273, 0.33261928, 0.3219451 ,\n",
       "       0.31112072, 0.30605176, 0.31051704, 0.31364533, 0.32008824,\n",
       "       0.33563355, 0.3463106 , 0.35710588, 0.37389025, 0.3838279 ,\n",
       "       0.38853076, 0.3934457 ], dtype=float32)"
      ]
     },
     "execution_count": 9,
     "metadata": {},
     "output_type": "execute_result"
    }
   ],
   "source": [
    "%time np.mean(img, axis = (1,2))"
   ]
  },
  {
   "cell_type": "code",
   "execution_count": 2,
   "metadata": {},
   "outputs": [],
   "source": [
    "def removeAvgSpecFromStack(im_stack):\n",
    "    mean_spec = np.mean(np.mean(im_stack, 1), 1)\n",
    "    mean_array = np.ones((im_stack.shape))\n",
    "    for n, val in enumerate(mean_spec):\n",
    "        mean_array[n] *= val\n",
    "\n",
    "    new_img = np.subtract(im_stack,mean_array)\n",
    "\n",
    "    return new_img\n"
   ]
  },
  {
   "cell_type": "code",
   "execution_count": 17,
   "metadata": {},
   "outputs": [
    {
     "name": "stdout",
     "output_type": "stream",
     "text": [
      "Wall time: 6.98 ms\n"
     ]
    },
    {
     "data": {
      "text/plain": [
       "<matplotlib.image.AxesImage at 0x10ee2b2e2b0>"
      ]
     },
     "execution_count": 17,
     "metadata": {},
     "output_type": "execute_result"
    }
   ],
   "source": [
    "%time ff = removeAvgSpecFromStack(img)\n",
    "ff.mean()\n",
    "plt.imshow(ff[-1])"
   ]
  },
  {
   "cell_type": "code",
   "execution_count": 14,
   "metadata": {},
   "outputs": [],
   "source": [
    "def removeAvgSpecFromStack2(im_stack):\n",
    "    mean_spec = np.mean(np.mean(im_stack, 1), 1)\n",
    "    en, im1, im2 = np.shape(im_stack)\n",
    "    im_array = im_stack.reshape(en, im1 * im2)\n",
    "    new_img = np.subtract(im_array,mean_spec[:,np.newaxis])\n",
    "\n",
    "    return np.reshape(new_img, (en, im1, im2))"
   ]
  },
  {
   "cell_type": "code",
   "execution_count": 15,
   "metadata": {},
   "outputs": [
    {
     "name": "stdout",
     "output_type": "stream",
     "text": [
      "Wall time: 2.97 ms\n"
     ]
    },
    {
     "data": {
      "text/plain": [
       "-2.8488398e-09"
      ]
     },
     "execution_count": 15,
     "metadata": {},
     "output_type": "execute_result"
    }
   ],
   "source": [
    "%time ff = removeAvgSpecFromStack2(img)\n",
    "ff.mean()"
   ]
  },
  {
   "cell_type": "code",
   "execution_count": 16,
   "metadata": {},
   "outputs": [
    {
     "data": {
      "text/plain": [
       "<matplotlib.image.AxesImage at 0x10ede7e0eb8>"
      ]
     },
     "execution_count": 16,
     "metadata": {},
     "output_type": "execute_result"
    }
   ],
   "source": [
    "plt.imshow(ff[-1])"
   ]
  },
  {
   "cell_type": "code",
   "execution_count": 23,
   "metadata": {},
   "outputs": [],
   "source": [
    "from scipy.signal import savgol_filter\n",
    "def smoothen(image_array, w_size=5):\n",
    "    a, b, c = np.shape(image_array)\n",
    "    spec2D_Matrix = np.reshape(image_array, (a, (b * c)))\n",
    "    smooth_stack = np.zeros(np.shape(spec2D_Matrix))\n",
    "    tot_spec = np.shape(spec2D_Matrix)[1]\n",
    "\n",
    "    for i in range(tot_spec):\n",
    "        norm_spec = spec2D_Matrix[:, i]\n",
    "        if norm_spec.sum() > 0:\n",
    "            norm_spec = savgol_filter(norm_spec, w_size, w_size - 2)\n",
    "        smooth_stack[:, i] = norm_spec\n",
    "\n",
    "    norm_stack = np.reshape(smooth_stack, (a, b, c))\n",
    "    return norm_stack"
   ]
  },
  {
   "cell_type": "code",
   "execution_count": 24,
   "metadata": {},
   "outputs": [
    {
     "name": "stdout",
     "output_type": "stream",
     "text": [
      "Wall time: 4.3 s\n"
     ]
    }
   ],
   "source": [
    "%time foo = smoothen(img, w_size=5)"
   ]
  },
  {
   "cell_type": "code",
   "execution_count": 32,
   "metadata": {},
   "outputs": [
    {
     "data": {
      "text/plain": [
       "[<matplotlib.lines.Line2D at 0x10ef2b9d940>]"
      ]
     },
     "execution_count": 32,
     "metadata": {},
     "output_type": "execute_result"
    }
   ],
   "source": [
    "plt.plot(np.mean(np.mean(foo, 1), 1))"
   ]
  },
  {
   "cell_type": "code",
   "execution_count": 47,
   "metadata": {},
   "outputs": [
    {
     "data": {
      "text/plain": [
       "(57, 8645)"
      ]
     },
     "execution_count": 47,
     "metadata": {},
     "output_type": "execute_result"
    }
   ],
   "source": [
    "a, b, c = np.shape(img)\n",
    "spec2D_Matrix = np.reshape(img, (a, (b * c)))\n",
    "foo2 = savgol_filter(spec2D_Matrix, 5, 3, axis = 0 )\n",
    "np.shape(foo2)"
   ]
  },
  {
   "cell_type": "code",
   "execution_count": 49,
   "metadata": {},
   "outputs": [
    {
     "data": {
      "text/plain": [
       "[<matplotlib.lines.Line2D at 0x10ef2b44400>]"
      ]
     },
     "execution_count": 49,
     "metadata": {},
     "output_type": "execute_result"
    }
   ],
   "source": [
    "plt.plot(np.mean(np.mean(foo, 1), 1))\n",
    "plt.plot(np.mean(foo2, -1))"
   ]
  },
  {
   "cell_type": "code",
   "execution_count": 51,
   "metadata": {},
   "outputs": [
    {
     "data": {
      "text/plain": [
       "[<matplotlib.lines.Line2D at 0x10ede958908>]"
      ]
     },
     "execution_count": 51,
     "metadata": {},
     "output_type": "execute_result"
    }
   ],
   "source": [
    "plt.plot(np.mean(foo[:,20], 1))\n",
    "plt.plot(np.mean(foo2[20], -1))"
   ]
  },
  {
   "cell_type": "code",
   "execution_count": null,
   "metadata": {},
   "outputs": [],
   "source": []
  }
 ],
 "metadata": {
  "kernelspec": {
   "display_name": "Python 3",
   "language": "python",
   "name": "python3"
  },
  "language_info": {
   "codemirror_mode": {
    "name": "ipython",
    "version": 3
   },
   "file_extension": ".py",
   "mimetype": "text/x-python",
   "name": "python",
   "nbconvert_exporter": "python",
   "pygments_lexer": "ipython3",
   "version": "3.7.3"
  }
 },
 "nbformat": 4,
 "nbformat_minor": 2
}
