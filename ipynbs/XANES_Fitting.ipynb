{
 "cells": [
  {
   "cell_type": "code",
   "execution_count": 8,
   "metadata": {},
   "outputs": [],
   "source": [
    "from itertools import combinations\n",
    "import numpy as np\n",
    "import scipy.optimize as opt\n",
    "import tifffile as tf\n",
    "import matplotlib.pyplot as plt\n",
    "from sklearn import linear_model \n",
    "\n",
    "def interploate_E(refs, e):\n",
    "    n = np.shape(refs)[1]\n",
    "    refs = np.array(refs)\n",
    "    ref_e = refs[:, 0]\n",
    "    ref = refs[:, 1:n]\n",
    "    all_ref = []\n",
    "    for i in range(n - 1):\n",
    "        ref_i = np.interp(e, ref_e, ref[:, i])\n",
    "        all_ref.append(ref_i)\n",
    "    return np.array(all_ref)\n",
    "\n",
    "def xanes_fitting(im_stack, e_list, refs, method='NNLS'):\n",
    "    \"\"\"Linear combination fit of image data with reference standards\"\"\"\n",
    "    en,im1,im2 = np.shape(im_stack)\n",
    "\n",
    "    int_refs = (interploate_E(refs, e_list))\n",
    "    im_array = im_stack.reshape(en, im1*im2)\n",
    "\n",
    "    if method == 'NNLS':\n",
    "        \n",
    "        coeffs_arr = []\n",
    "        r_factor_arr = []\n",
    "        \n",
    "        for i in range(im1*im2):\n",
    "            coeffs, r = opt.nnls(int_refs.T, im_array[:,i])\n",
    "            coeffs_arr.append(coeffs)\n",
    "            r_factor_arr.append(r)\n",
    "            \n",
    "        abundance_map = np.reshape(coeffs_arr,(im1,im2,-1))\n",
    "        r_factor = np.reshape(r_factor_arr,(im1,im2))\n",
    "        \n",
    "        \n",
    "    elif method == 'LASSO':\n",
    "\n",
    "        coeffs_arr = []\n",
    "        r_factor_arr = []\n",
    "        reg = linear_model.Ridge(alpha=0.1)\n",
    "        for i in range(im1 * im2):\n",
    "            fit_results = reg.fit(int_refs.T, im_array[:, i])\n",
    "            r = fit_results.score(int_refs.T, im_array[:, i])\n",
    "            coeffs_arr.append(fit_results.coef_)\n",
    "            r_factor_arr.append(r)\n",
    "\n",
    "        abundance_map = np.reshape(coeffs_arr, (im1, im2, -1))\n",
    "        r_factor = np.reshape(r_factor_arr, (im1, im2))\n",
    "\n",
    "    return abundance_map,r_factor"
   ]
  },
  {
   "cell_type": "code",
   "execution_count": 9,
   "metadata": {},
   "outputs": [],
   "source": [
    "img_stack = tf.imread(r'C:\\Users\\pattammattel\\Desktop\\MIDAS_Admin\\sample_data\\Site4um.tiff')\n",
    "e_list = np.loadtxt(r'C:\\Users\\pattammattel\\Desktop\\MIDAS_Admin\\sample_data\\Site4um.txt')\n",
    "refs = np.loadtxt(r'C:\\Users\\pattammattel\\Desktop\\MIDAS_Admin\\sample_data\\test_ref_athena.nor')"
   ]
  },
  {
   "cell_type": "code",
   "execution_count": 10,
   "metadata": {},
   "outputs": [],
   "source": [
    "sample_spec = img_stack.mean(1).mean(1)\n",
    "int_refs = interploate_E(refs, e_list)\n",
    "en,im1,im2 = np.shape(img_stack)\n",
    "im_array = img_stack.reshape(en, im1*im2)"
   ]
  },
  {
   "cell_type": "code",
   "execution_count": 11,
   "metadata": {},
   "outputs": [],
   "source": [
    "reg = linear_model.Lasso(alpha=0.001, positive=True)\n",
    "fit_ = reg.fit(int_refs.T, sample_spec)"
   ]
  },
  {
   "cell_type": "code",
   "execution_count": 12,
   "metadata": {},
   "outputs": [
    {
     "data": {
      "text/plain": [
       "0.12049866184979328"
      ]
     },
     "execution_count": 12,
     "metadata": {},
     "output_type": "execute_result"
    }
   ],
   "source": [
    "fit = fit_.coef_@int_refs\n",
    "r_factor = (sample_spec.sum(-1)-fit.sum(-1))/sample_spec.sum(-1)\n",
    "r_factor"
   ]
  },
  {
   "cell_type": "code",
   "execution_count": 15,
   "metadata": {},
   "outputs": [
    {
     "data": {
      "text/plain": [
       "0.8929329569618139"
      ]
     },
     "execution_count": 15,
     "metadata": {},
     "output_type": "execute_result"
    }
   ],
   "source": [
    "y_mean = np.sum(sample_spec)/len(sample_spec)\n",
    "SS_tot = np.sum((sample_spec-y_mean)**2)\n",
    "SS_res = np.sum((sample_spec - fit)**2)\n",
    "r_square = 1 - (SS_res/ SS_tot)\n",
    "r_square"
   ]
  },
  {
   "cell_type": "code",
   "execution_count": null,
   "metadata": {},
   "outputs": [],
   "source": []
  }
 ],
 "metadata": {
  "kernelspec": {
   "display_name": "Python 3",
   "language": "python",
   "name": "python3"
  },
  "language_info": {
   "codemirror_mode": {
    "name": "ipython",
    "version": 3
   },
   "file_extension": ".py",
   "mimetype": "text/x-python",
   "name": "python",
   "nbconvert_exporter": "python",
   "pygments_lexer": "ipython3",
   "version": "3.7.3"
  }
 },
 "nbformat": 4,
 "nbformat_minor": 2
}
