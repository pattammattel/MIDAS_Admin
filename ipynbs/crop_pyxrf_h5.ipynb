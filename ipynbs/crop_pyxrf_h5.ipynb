{
 "cells": [
  {
   "cell_type": "code",
   "execution_count": 1,
   "metadata": {},
   "outputs": [],
   "source": [
    "import numpy as np\n",
    "import matplotlib.pyplot as plt\n",
    "import h5py"
   ]
  },
  {
   "cell_type": "code",
   "execution_count": 26,
   "metadata": {},
   "outputs": [
    {
     "name": "stdout",
     "output_type": "stream",
     "text": [
      "(240, 240, 4096)\n",
      "(10, 12, 4096)\n",
      "(240, 240, 7)\n"
     ]
    }
   ],
   "source": [
    "h5file = r'C:\\Users\\pattammattel\\Desktop\\yulia\\scan2D_99996.h5'\n",
    "\n",
    "with h5py.File(h5file,'r+') as f:\n",
    "    xrf_data =  f['xrfmap/detsum/counts']\n",
    "    print(f['xrfmap/detsum/counts'].shape)\n",
    "    del f['xrfmap/detsum/counts']\n",
    "    f['xrfmap/detsum/counts'] = xrf_data[106:116,53:65,:] #Y first\n",
    "    print(f['xrfmap/detsum/counts'].shape)\n",
    "    \n",
    "    scal_data = f['xrfmap/scalers/val']\n",
    "    print(scal_data.shape)\n",
    "    del f['xrfmap/scalers/val']\n",
    "    f['xrfmap/scalers/val'] = scal_data[106:116,53:65,:]\n",
    "    f.close()\n"
   ]
  },
  {
   "cell_type": "code",
   "execution_count": 19,
   "metadata": {},
   "outputs": [
    {
     "data": {
      "text/plain": [
       "<matplotlib.image.AxesImage at 0x2028263c5f8>"
      ]
     },
     "execution_count": 19,
     "metadata": {},
     "output_type": "execute_result"
    }
   ],
   "source": [
    "%matplotlib qt\n",
    "plt.imshow(np.array(xrf_data[100:150,40:70]).sum(2))"
   ]
  },
  {
   "cell_type": "code",
   "execution_count": null,
   "metadata": {},
   "outputs": [],
   "source": []
  }
 ],
 "metadata": {
  "kernelspec": {
   "display_name": "Python 3",
   "language": "python",
   "name": "python3"
  },
  "language_info": {
   "codemirror_mode": {
    "name": "ipython",
    "version": 3
   },
   "file_extension": ".py",
   "mimetype": "text/x-python",
   "name": "python",
   "nbconvert_exporter": "python",
   "pygments_lexer": "ipython3",
   "version": "3.7.3"
  }
 },
 "nbformat": 4,
 "nbformat_minor": 2
}
