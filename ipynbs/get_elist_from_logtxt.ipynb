{
 "cells": [
  {
   "cell_type": "code",
   "execution_count": 46,
   "metadata": {},
   "outputs": [],
   "source": [
    "import numpy as np\n",
    "import pandas as pd\n",
    "import os\n",
    "import glob"
   ]
  },
  {
   "cell_type": "code",
   "execution_count": 42,
   "metadata": {},
   "outputs": [
    {
     "data": {
      "text/plain": [
       "'C:\\\\Users\\\\pattammattel\\\\Desktop\\\\Ajith2020Q3\\\\nanoXANES'"
      ]
     },
     "execution_count": 42,
     "metadata": {},
     "output_type": "execute_result"
    }
   ],
   "source": [
    "pwd"
   ]
  },
  {
   "cell_type": "code",
   "execution_count": 80,
   "metadata": {},
   "outputs": [],
   "source": [
    "def logfile_to_efile(logfile = 'maps_log_tiff.txt'):\n",
    "    df = pd.read_csv(logfile, header= None, delim_whitespace=True, skiprows=9)\n",
    "    elen = df.shape[0]-11\n",
    "    dest, name = os.path.split(logfile)\n",
    "    np.savetxt(dest+'/energy_list_eV.txt', np.array(df.iloc[:elen,9]),fmt='%s')"
   ]
  },
  {
   "cell_type": "code",
   "execution_count": 81,
   "metadata": {},
   "outputs": [
    {
     "data": {
      "text/plain": [
       "['C:\\\\Users\\\\pattammattel\\\\Desktop\\\\Ajith2020Q3\\\\nanoXANES\\\\LPE_FeS2\\\\LPE_Area1_50nm_46points\\\\maps_log_tiff.txt',\n",
       " 'C:\\\\Users\\\\pattammattel\\\\Desktop\\\\Ajith2020Q3\\\\nanoXANES\\\\LPE_FeS2\\\\LPE_Area2_50nm_46epoints\\\\maps_log_tiff.txt',\n",
       " 'C:\\\\Users\\\\pattammattel\\\\Desktop\\\\Ajith2020Q3\\\\nanoXANES\\\\LPE_FeS2\\\\LPE_P1_20nm\\\\maps_log_tiff.txt',\n",
       " 'C:\\\\Users\\\\pattammattel\\\\Desktop\\\\Ajith2020Q3\\\\nanoXANES\\\\LPE_FeS2\\\\LPE_P2_50nm\\\\maps_log_tiff.txt',\n",
       " 'C:\\\\Users\\\\pattammattel\\\\Desktop\\\\Ajith2020Q3\\\\nanoXANES\\\\LPE_FeS2\\\\LPE_P3_20nm\\\\maps_log_tiff.txt',\n",
       " 'C:\\\\Users\\\\pattammattel\\\\Desktop\\\\Ajith2020Q3\\\\nanoXANES\\\\LPE_FeS2\\\\LPE_P4_25\\\\maps_log_tiff.txt',\n",
       " 'C:\\\\Users\\\\pattammattel\\\\Desktop\\\\Ajith2020Q3\\\\nanoXANES\\\\LPE_FeS2\\\\LPE_P4_30nm\\\\maps_log_tiff.txt',\n",
       " 'C:\\\\Users\\\\pattammattel\\\\Desktop\\\\Ajith2020Q3\\\\nanoXANES\\\\Oxd_LPE_FeS2\\\\oxd_FeS2_A2_100\\\\maps_log_tiff.txt',\n",
       " 'C:\\\\Users\\\\pattammattel\\\\Desktop\\\\Ajith2020Q3\\\\nanoXANES\\\\Oxd_LPE_FeS2\\\\oxd_FeS2_P1_50\\\\maps_log_tiff.txt',\n",
       " 'C:\\\\Users\\\\pattammattel\\\\Desktop\\\\Ajith2020Q3\\\\nanoXANES\\\\Oxd_LPE_FeS2\\\\oxd_FeS2_P2_50_Focused\\\\maps_log_tiff.txt',\n",
       " 'C:\\\\Users\\\\pattammattel\\\\Desktop\\\\Ajith2020Q3\\\\nanoXANES\\\\Oxd_LPE_FeS2\\\\oxd_FeS2_P3_50\\\\maps_log_tiff.txt',\n",
       " 'C:\\\\Users\\\\pattammattel\\\\Desktop\\\\Ajith2020Q3\\\\nanoXANES\\\\Oxd_LPE_FeS2\\\\oxd_FeS2_P4_40\\\\maps_log_tiff.txt',\n",
       " 'C:\\\\Users\\\\pattammattel\\\\Desktop\\\\Ajith2020Q3\\\\nanoXANES\\\\Oxd_LPE_FeS2\\\\oxd_FeS2_P5_80nm\\\\maps_log_tiff.txt',\n",
       " 'C:\\\\Users\\\\pattammattel\\\\Desktop\\\\Ajith2020Q3\\\\nanoXANES\\\\Pristine_FeS2\\\\Pristine_100\\\\maps_log_tiff.txt']"
      ]
     },
     "execution_count": 81,
     "metadata": {},
     "output_type": "execute_result"
    }
   ],
   "source": [
    "ff = glob.glob('C:\\\\Users\\\\pattammattel\\\\Desktop\\\\Ajith2020Q3\\\\nanoXANES/*/*/*tiff.txt')\n",
    "ff"
   ]
  },
  {
   "cell_type": "code",
   "execution_count": 82,
   "metadata": {},
   "outputs": [
    {
     "name": "stdout",
     "output_type": "stream",
     "text": [
      "C:\\Users\\pattammattel\\Desktop\\Ajith2020Q3\\nanoXANES\\LPE_FeS2\\LPE_Area1_50nm_46points\\maps_log_tiff.txt\n",
      "C:\\Users\\pattammattel\\Desktop\\Ajith2020Q3\\nanoXANES\\LPE_FeS2\\LPE_Area2_50nm_46epoints\\maps_log_tiff.txt\n",
      "C:\\Users\\pattammattel\\Desktop\\Ajith2020Q3\\nanoXANES\\LPE_FeS2\\LPE_P1_20nm\\maps_log_tiff.txt\n",
      "C:\\Users\\pattammattel\\Desktop\\Ajith2020Q3\\nanoXANES\\LPE_FeS2\\LPE_P2_50nm\\maps_log_tiff.txt\n",
      "C:\\Users\\pattammattel\\Desktop\\Ajith2020Q3\\nanoXANES\\LPE_FeS2\\LPE_P3_20nm\\maps_log_tiff.txt\n",
      "C:\\Users\\pattammattel\\Desktop\\Ajith2020Q3\\nanoXANES\\LPE_FeS2\\LPE_P4_25\\maps_log_tiff.txt\n",
      "C:\\Users\\pattammattel\\Desktop\\Ajith2020Q3\\nanoXANES\\LPE_FeS2\\LPE_P4_30nm\\maps_log_tiff.txt\n",
      "C:\\Users\\pattammattel\\Desktop\\Ajith2020Q3\\nanoXANES\\Oxd_LPE_FeS2\\oxd_FeS2_A2_100\\maps_log_tiff.txt\n",
      "C:\\Users\\pattammattel\\Desktop\\Ajith2020Q3\\nanoXANES\\Oxd_LPE_FeS2\\oxd_FeS2_P1_50\\maps_log_tiff.txt\n",
      "C:\\Users\\pattammattel\\Desktop\\Ajith2020Q3\\nanoXANES\\Oxd_LPE_FeS2\\oxd_FeS2_P2_50_Focused\\maps_log_tiff.txt\n",
      "C:\\Users\\pattammattel\\Desktop\\Ajith2020Q3\\nanoXANES\\Oxd_LPE_FeS2\\oxd_FeS2_P3_50\\maps_log_tiff.txt\n",
      "C:\\Users\\pattammattel\\Desktop\\Ajith2020Q3\\nanoXANES\\Oxd_LPE_FeS2\\oxd_FeS2_P4_40\\maps_log_tiff.txt\n",
      "C:\\Users\\pattammattel\\Desktop\\Ajith2020Q3\\nanoXANES\\Oxd_LPE_FeS2\\oxd_FeS2_P5_80nm\\maps_log_tiff.txt\n",
      "C:\\Users\\pattammattel\\Desktop\\Ajith2020Q3\\nanoXANES\\Pristine_FeS2\\Pristine_100\\maps_log_tiff.txt\n"
     ]
    }
   ],
   "source": [
    "for fname in  ff:\n",
    "    logfile_to_efile(logfile = fname)\n",
    "    print(fname)\n",
    "    \n",
    "    "
   ]
  },
  {
   "cell_type": "code",
   "execution_count": null,
   "metadata": {},
   "outputs": [],
   "source": []
  }
 ],
 "metadata": {
  "kernelspec": {
   "display_name": "Python 3",
   "language": "python",
   "name": "python3"
  },
  "language_info": {
   "codemirror_mode": {
    "name": "ipython",
    "version": 3
   },
   "file_extension": ".py",
   "mimetype": "text/x-python",
   "name": "python",
   "nbconvert_exporter": "python",
   "pygments_lexer": "ipython3",
   "version": "3.6.5"
  }
 },
 "nbformat": 4,
 "nbformat_minor": 2
}
